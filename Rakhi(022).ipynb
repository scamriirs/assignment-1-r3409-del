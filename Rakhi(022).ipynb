{
 "cells": [
  {
   "cell_type": "code",
   "execution_count": 1,
   "id": "68d2ab50-605a-44f5-b9a5-f0643f578656",
   "metadata": {},
   "outputs": [
    {
     "name": "stdout",
     "output_type": "stream",
     "text": [
      "First element is small\n"
     ]
    }
   ],
   "source": [
    "#1\n",
    "numbers = [10, 20, 30, 40]\n",
    "if numbers[0] > 25:\n",
    "    print(\"First element is large\")\n",
    "else:\n",
    "    print(\"First element is small\")"
   ]
  },
  {
   "cell_type": "code",
   "execution_count": 7,
   "id": "f835da49-9805-47fc-bcdd-e608fc7fa57e",
   "metadata": {},
   "outputs": [
    {
     "name": "stdout",
     "output_type": "stream",
     "text": [
      "['Fail', 'Pass', 'Pass', 'Pass', 'Pass', 'Fail']\n"
     ]
    }
   ],
   "source": [
    "#2\n",
    "scores = [45, 67, 89, 92, 54, 31]\n",
    "results = []\n",
    "for score in scores:\n",
    "    if score >= 50:\n",
    "        results.append(\"Pass\")\n",
    "        \n",
    "    else:\n",
    "        results.append(\"Fail\")\n",
    "print(results)"
   ]
  },
  {
   "cell_type": "code",
   "execution_count": 8,
   "id": "a491c32a-4597-4861-8def-841d12b86304",
   "metadata": {},
   "outputs": [
    {
     "name": "stdin",
     "output_type": "stream",
     "text": [
      "Enter your favorite fruit:  mango\n"
     ]
    },
    {
     "name": "stdout",
     "output_type": "stream",
     "text": [
      "Your favorite fruit is on the list!\n"
     ]
    }
   ],
   "source": [
    "#3\n",
    "fruits = ['apple', 'banana', 'mango', 'grape']\n",
    "favorite = input(\"Enter your favorite fruit: \").lower()\n",
    "\n",
    "if favorite in fruits:\n",
    "    print(\"Your favorite fruit is on the list!\")\n",
    "else:\n",
    "    print(\"Your favorite fruit is not on the list.\")\n"
   ]
  },
  {
   "cell_type": "code",
   "execution_count": 9,
   "id": "eba796e5-ef9c-4190-9461-078f1d64b283",
   "metadata": {},
   "outputs": [
    {
     "name": "stdout",
     "output_type": "stream",
     "text": [
      "Sum of positive numbers: 15\n"
     ]
    }
   ],
   "source": [
    "#4\n",
    "values = [1, -2, 3, -4, 5, 6]\n",
    "positive_sum = 0\n",
    "\n",
    "for number in values:\n",
    "    if number > 0:\n",
    "        positive_sum += number\n",
    "\n",
    "print(\"Sum of positive numbers:\", positive_sum)\n"
   ]
  },
  {
   "cell_type": "code",
   "execution_count": 10,
   "id": "d1428c9d-8372-48cc-b722-f88cd3313ac2",
   "metadata": {},
   "outputs": [
    {
     "name": "stdout",
     "output_type": "stream",
     "text": [
      "Largest number less than 500: 330\n"
     ]
    }
   ],
   "source": [
    "#5\n",
    "data = [120, 330, 40, 550, 60]\n",
    "valid_numbers = []\n",
    "\n",
    "for num in data:\n",
    "    if num < 500:\n",
    "        valid_numbers.append(num)\n",
    "\n",
    "if valid_numbers:\n",
    "    print(\"Largest number less than 500:\", max(valid_numbers))\n",
    "else:\n",
    "    print(\"No valid number found\")\n"
   ]
  },
  {
   "cell_type": "code",
   "execution_count": 11,
   "id": "d02da6de-e04a-42ab-9c2e-f732720a865c",
   "metadata": {},
   "outputs": [
    {
     "name": "stdout",
     "output_type": "stream",
     "text": [
      "Integers: [12, 33, 100]\n",
      "Strings: ['hello', 'world']\n"
     ]
    }
   ],
   "source": [
    "#6\n",
    "mixed = [12, 'hello', 33, 'world', 7.5, 100]\n",
    "integers = []\n",
    "strings = []\n",
    "\n",
    "for item in mixed:\n",
    "    if type(item) == int:\n",
    "        integers.append(item)\n",
    "    elif type(item) == str:\n",
    "        strings.append(item)\n",
    "\n",
    "print(\"Integers:\", integers)\n",
    "print(\"Strings:\", strings)\n"
   ]
  },
  {
   "cell_type": "code",
   "execution_count": 14,
   "id": "7b5d9e86-947a-4a8f-9ff7-f579ec96d3a1",
   "metadata": {},
   "outputs": [
    {
     "name": "stdin",
     "output_type": "stream",
     "text": [
      "Enter an index:  20\n"
     ]
    },
    {
     "name": "stdout",
     "output_type": "stream",
     "text": [
      "Invalid index\n"
     ]
    }
   ],
   "source": [
    "#7\n",
    "my_list = [10, 20, 30, 40, 50]\n",
    "\n",
    "try:\n",
    "    index = int(input(\"Enter an index: \"))\n",
    "    if 0 <= index < len(my_list):\n",
    "        if my_list[index] % 2 == 0:\n",
    "            print(\"Valid index, even number\")\n",
    "        else:\n",
    "            print(\"Valid index, odd number\")\n",
    "    else:\n",
    "        print(\"Invalid index\")\n",
    "except ValueError:\n",
    "    print(\"Please enter a valid integer index.\")\n"
   ]
  },
  {
   "cell_type": "code",
   "execution_count": 15,
   "id": "33db87d7-0aee-4257-9037-0851eda86ec5",
   "metadata": {},
   "outputs": [
    {
     "name": "stdout",
     "output_type": "stream",
     "text": [
      "Valid temperatures: [25, 30, 28, 16, 99]\n"
     ]
    }
   ],
   "source": [
    "#8\n",
    "temperatures = [25, 30, 105, 28, 16, -5, 99]\n",
    "valid_temperatures = []\n",
    "\n",
    "for temp in temperatures:\n",
    "    if 0 <= temp <= 100:\n",
    "        valid_temperatures.append(temp)\n",
    "\n",
    "print(\"Valid temperatures:\", valid_temperatures)\n"
   ]
  },
  {
   "cell_type": "code",
   "execution_count": 17,
   "id": "6bd21357-bbfc-47c7-b723-d5d361e53e69",
   "metadata": {},
   "outputs": [
    {
     "name": "stdin",
     "output_type": "stream",
     "text": [
      "Enter a name to search:  Diana\n"
     ]
    },
    {
     "name": "stdout",
     "output_type": "stream",
     "text": [
      "Diana found at index 3\n"
     ]
    }
   ],
   "source": [
    "#9\n",
    "names = ['Alice', 'Bob', 'Charlie', 'Diana']\n",
    "search_name = input(\"Enter a name to search: \")\n",
    "if search_name in names:\n",
    "    print(f\"{search_name} found at index {names.index(search_name)}\")\n",
    "else:\n",
    "    print(\"Name not found\")\n"
   ]
  },
  {
   "cell_type": "code",
   "execution_count": 18,
   "id": "b25b94f0-6f48-44b1-9d74-ef1bd200349e",
   "metadata": {},
   "outputs": [
    {
     "name": "stdout",
     "output_type": "stream",
     "text": [
      "15\n",
      "36\n",
      "12\n",
      "18\n"
     ]
    }
   ],
   "source": [
    "#10\n",
    "numbers = [15, 7, 22, 9, 36, 12, 18]\n",
    "for num in numbers:\n",
    "    if num > 10 and num % 3 == 0:\n",
    "        print(num)\n"
   ]
  },
  {
   "cell_type": "code",
   "execution_count": null,
   "id": "5a3b4460-ad99-40b6-9c67-4b05ddd30798",
   "metadata": {},
   "outputs": [],
   "source": []
  }
 ],
 "metadata": {
  "kernelspec": {
   "display_name": "Python 3 (myenv)",
   "language": "python",
   "name": "myenv"
  },
  "language_info": {
   "codemirror_mode": {
    "name": "ipython",
    "version": 3
   },
   "file_extension": ".py",
   "mimetype": "text/x-python",
   "name": "python",
   "nbconvert_exporter": "python",
   "pygments_lexer": "ipython3",
   "version": "3.13.5"
  }
 },
 "nbformat": 4,
 "nbformat_minor": 5
}
